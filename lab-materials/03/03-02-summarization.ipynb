{
 "cells": [
  {
   "cell_type": "markdown",
   "id": "4ad2cc4e-31ec-4648-b0fe-6632f2bdbc36",
   "metadata": {},
   "source": [
    "## Summarizing a text using an LLM\n",
    "\n",
    "As an LLM \"understands\" a language, it can be suited for tasks like translation or summarization.\n",
    "\n",
    "In this Notebook, we are going to use our LLM to summarize some texts, especially claims examples."
   ]
  },
  {
   "cell_type": "markdown",
   "id": "2a4e2b81-0e10-4390-a7b8-5ddfda53a3e3",
   "metadata": {},
   "source": [
    "### Requirements and Imports\n",
    "\n",
    "If you have selected the right workbench image to launch as per the Lab's instructions, you should already have all the needed libraries. If not uncomment the first line in the next cell to install all the right packages."
   ]
  },
  {
   "cell_type": "code",
   "execution_count": 2,
   "id": "d61c595d-967e-47de-a598-02b5d1ccec85",
   "metadata": {
    "tags": []
   },
   "outputs": [],
   "source": [
    "# !pip install --no-cache-dir --no-dependencies --disable-pip-version-check -r requirements.txt # Uncomment only if you have not selected the right workbench image\n",
    "\n",
    "import json\n",
    "import os\n",
    "from os import listdir\n",
    "from os.path import isfile, join\n",
    "from langchain.chains import LLMChain\n",
    "from langchain_community.llms import VLLMOpenAI\n",
    "from langchain.callbacks.streaming_stdout import StreamingStdOutCallbackHandler\n",
    "from langchain.prompts import PromptTemplate"
   ]
  },
  {
   "cell_type": "markdown",
   "id": "c428fbad-2345-4536-b687-72416d6b9b15",
   "metadata": {},
   "source": [
    "### Langchain pipeline\n",
    "\n",
    "Again, we are going to use Langchain to define our summarization pipeline."
   ]
  },
  {
   "cell_type": "code",
   "execution_count": 3,
   "id": "77f95a70-89fb-4e21-a51c-24e862b7953e",
   "metadata": {
    "tags": []
   },
   "outputs": [],
   "source": [
    "# LLM Inference Server URL\n",
    "inference_server_url = \"http://llm.ic-shared-llm.svc.cluster.local:8000\"\n",
    "\n",
    "# LLM definition\n",
    "llm = VLLMOpenAI(           # we are using the vLLM OpenAI-compatible API client. But the Model is running on OpenShift, not OpenAI.\n",
    "    openai_api_key=\"EMPTY\",   # and that is why we don't need an OpenAI key for this.\n",
    "    openai_api_base= f\"{inference_server_url}/v1\",\n",
    "    model_name=\"mistralai/Mistral-7B-Instruct-v0.2\",\n",
    "    top_p=0.92,\n",
    "    temperature=0.01,\n",
    "    max_tokens=512,\n",
    "    presence_penalty=1.03,\n",
    "    streaming=True,\n",
    "    callbacks=[StreamingStdOutCallbackHandler()]\n",
    ")"
   ]
  },
  {
   "cell_type": "markdown",
   "id": "20b950bc-4d73-49e5-a35b-083a784edd50",
   "metadata": {},
   "source": [
    "The **template** we will use is now formatted for this specific summarization task."
   ]
  },
  {
   "cell_type": "code",
   "execution_count": 4,
   "id": "f8bb7517-faa2-43ed-a95d-835de975f916",
   "metadata": {
    "tags": []
   },
   "outputs": [],
   "source": [
    "template=\"\"\"<s>[INST]\n",
    "You are a helpful, respectful and honest assistant.\n",
    "Always assist with care, respect, and truth. Respond with utmost utility yet securely.\n",
    "Avoid harmful, unethical, prejudiced, or negative content. Ensure replies promote fairness and positivity.\n",
    "I will give you a text that you must summarize as best as you can.\n",
    "\n",
    "### TEXT:\n",
    "{input}\n",
    "\n",
    "### SUMMARY:\n",
    "[/INST]\n",
    "\"\"\"\n",
    "PROMPT = PromptTemplate(input_variables=[\"input\"], template=template)"
   ]
  },
  {
   "cell_type": "markdown",
   "id": "9cbe2119-2128-4432-aed1-126e9c8c034f",
   "metadata": {},
   "source": [
    "And we can now create the **conversation** object that we will use to query the model."
   ]
  },
  {
   "cell_type": "code",
   "execution_count": 5,
   "id": "0e6d9f32-d4ae-4c2f-b513-d520413d2cc8",
   "metadata": {
    "tags": []
   },
   "outputs": [],
   "source": [
    "conversation = LLMChain(llm=llm,\n",
    "                        prompt=PROMPT,\n",
    "                        verbose=False\n",
    "                        )"
   ]
  },
  {
   "cell_type": "markdown",
   "id": "849fbd67-220c-4a02-8e4e-7e0d1aa91588",
   "metadata": {},
   "source": [
    "We are now ready to query the model!\n",
    "\n",
    "In the `claims` folder we have JSON files with examples of claims that could be received. We are going to read those files, display them, then the summary that the LLM made."
   ]
  },
  {
   "cell_type": "code",
   "execution_count": 6,
   "id": "ca714bca-7cec-4afc-b275-fa389c05a993",
   "metadata": {
    "tags": []
   },
   "outputs": [],
   "source": [
    "# Read the claims and populate a dictionary\n",
    "claims_path = 'claims'\n",
    "onlyfiles = [f for f in listdir(claims_path) if isfile(join(claims_path, f))]\n",
    "\n",
    "claims = {}\n",
    "\n",
    "for filename in onlyfiles:\n",
    "    # Opening JSON file\n",
    "    with open(os.path.join(claims_path, filename), 'r') as file:\n",
    "        data = json.load(file)\n",
    "    claims[filename] = data"
   ]
  },
  {
   "cell_type": "code",
   "execution_count": 7,
   "id": "dac009d5-d558-4258-9735-4fb0de46c309",
   "metadata": {
    "tags": []
   },
   "outputs": [
    {
     "name": "stdout",
     "output_type": "stream",
     "text": [
      "***************************\n",
      "* Feedback: claim1.json\n",
      "***************************\n",
      "Original content:\n",
      "-----------------\n",
      "Subject: Meal not served, rude behaviour - PNR:98LG5Y6\n",
      "Content:\n",
      "Dear Indigo,\n",
      "\n",
      " My name is Siddarth, and I am writing to complaint a claim for a recent flight I took from Delhi to Cochin. I caught the flight on June 2nd, 2024, at  3:30 PM. My PNR number is 98LG5Y6.\n",
      "\n",
      " I wanted to report about an incident that took place during the flight. I had pre-ordered and paid for a Chicken Junglee sandwich. However, the cabin staff told that the Chicken Junglee Sandwich was out of stock and fhence provided me an alternate meal. The meal provided to me was a box of cashews and some cookies. The cookies received were stale and out of date. When I asked for a replacement, I was told this is all they have and they cannot provide anything else. Not even a complimentary drink. The entire experience was not at all pleasant and the rude behaviour of the staff on-board was just not acceptful. It is shameful that a airlines of this pedigree provides such an experience to its flyers. Please look into the same. I will personally make sure that neither me nor my family/friends will fly Indigo if no action is taken into this. Sincerely, Siddarth 123 Gurugram, Haryana 7799886633 engineeringgenuis@gmail.com\n",
      "\n",
      "\n",
      "Summary:\n",
      "--------\n",
      "The text is a complaint from a passenger named Siddarth regarding an unpleasant experience during his Indigo flight from Delhi to Cochin on June 2, 2024. He had pre-ordered and paid for a Chicken Junglee sandwich but was given an alternate meal of cashews and stale cookies instead. When he requested a replacement or even a complimentary drink, he was denied. Siddarth found the behavior of the cabin staff rude and unacceptable. He expressed disappointment that Indigo, being a reputed airline, would provide such an experience to its passengers. He threatened not to fly with Indigo again unless action is taken. His contact information and email address are provided for follow-up.\n",
      "\n",
      "                          ----====----\n",
      "\n",
      "***************************\n",
      "* Feedback: claim3.json\n",
      "***************************\n",
      "Original content:\n",
      "-----------------\n",
      "Subject: Fantasic Expreience in the Sky - PNR: 76AT54F2\n",
      "Content:\n",
      "Dear Indigo,\n",
      "\n",
      " My name is Vikram Singh and I am wrtiting a small appreciation note for you people. Every time I fly Indigo, you people surprise me with a note and a little present. Almost to the point that if I don’t get one, it would be a surprise😜 This is not a flex but rather some observations I glean from experiences like this. /n/n A packet of chips & cookies cost nothing but it shows customers you care & makes them feel special. Indigo also brings out the letter and the gift on a tray making it visible to others and sending a signal that celebs fly with us too. This builds the airlines’ aspirational positioning. While everything these days is snapped for social media, these little initiatives usually end up as a post as well, like this one. Sincerely, Vikram Singh 123 Gurugram, Haryana 990088331 vikramsingh@gmail.com\n",
      "\n",
      "\n",
      "Summary:\n",
      "--------\n",
      "Vikram Singh expressed his appreciation for Indigo Airlines in a letter, sharing his consistent positive experiences with the airline. He mentioned that receiving a small gift and note from Indigo during flights makes him feel special and valued as a customer. He observed that these gestures not only cost little but also contribute to Indigo's aspirational positioning by making it seem exclusive, even for celebrities. Vikram also noted that he often shares these experiences on social media.\n",
      "\n",
      "                          ----====----\n",
      "\n",
      "***************************\n",
      "* Feedback: claim2.json\n",
      "***************************\n",
      "Original content:\n",
      "-----------------\n",
      "Subject: Last minute flight cancellation - Flight Number: 6E502\n",
      "Content:\n",
      "Hi Indigo,\n",
      "\n",
      " My name is Amit, and I am writing to complaint for flight booked today on Jun 20, 2024 at 12.20 PM from Mumbai to Gwalior and at 11.00 am, I am receiving a message that my flight has been cancelled and there are no other flights later in the day!!.\n",
      "\n",
      " Do you guys understand the importance of bookings? Can’t you keep few hours delay and arrange the flight? Stupid reasons for your inefficiency weather is now under controlled. In case the situation was so worse it should have been informed to the passengers last night itself, so that they would made some arrangements or plan accordingly, just informing before 2 hours is highly irresponsible and passengers were already at the airport. Sincerely, Amit 321 Nagpur, Maharashtra 999999999 amitjainh@gmail.com\n",
      "\n",
      "\n",
      "Summary:\n",
      "--------\n",
      "Amit, a passenger with the email address \"amitjainh@gmail.com\" from Nagpur, Maharashtra, wrote to Indigo Airlines to express his disappointment and frustration over the last-minute cancellation of his flight (Flight Number: 6E502) scheduled for June 20, 2024, from Mumbai to Gwalior. The flight was originally scheduled to depart at 12:20 PM, but he received a notification at 11:00 AM that the flight had been cancelled, and no alternative flights were available later in the day. Amit emphasized the importance of proper communication and organization, suggesting that Indigo could have delayed the flight or informed passengers earlier if there were uncontrollable circumstances. He considered the short notice given to be highly irresponsible and expressed his dissatisfaction with the situation.\n",
      "\n",
      "                          ----====----\n",
      "\n"
     ]
    }
   ],
   "source": [
    "for filename in onlyfiles:\n",
    "    print(f\"***************************\")\n",
    "    print(f\"* Feedback: {filename}\")\n",
    "    print(f\"***************************\")\n",
    "    print(\"Original content:\")\n",
    "    print(\"-----------------\")\n",
    "    print(f\"Subject: {claims[filename]['subject']}\\nContent:\\n{claims[filename]['content']}\\n\\n\")\n",
    "    print('Summary:')\n",
    "    print(\"--------\")\n",
    "    summary_input = f\"Subject: {claims[filename]['subject']}\\nContent:\\n{claims[filename]['content']}\"\n",
    "    conversation.predict(input=summary_input);\n",
    "    print(\"\\n\\n                          ----====----\\n\")"
   ]
  },
  {
   "cell_type": "markdown",
   "id": "6e28a5b0-6c93-42ba-84dd-42e17746d11d",
   "metadata": {},
   "source": [
    "You can come back to this notebook at section 3.7 for some optional exercises if you want."
   ]
  }
 ],
 "metadata": {
  "kernelspec": {
   "display_name": "Python 3.11",
   "language": "python",
   "name": "python3"
  },
  "language_info": {
   "codemirror_mode": {
    "name": "ipython",
    "version": 3
   },
   "file_extension": ".py",
   "mimetype": "text/x-python",
   "name": "python",
   "nbconvert_exporter": "python",
   "pygments_lexer": "ipython3",
   "version": "3.11.7"
  }
 },
 "nbformat": 4,
 "nbformat_minor": 5
}
